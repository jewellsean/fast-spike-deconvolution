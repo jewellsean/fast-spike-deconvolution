{
 "cells": [
  {
   "cell_type": "markdown",
   "metadata": {},
   "source": [
    "---\n",
    "title: \"FastLZeroSpikeInference Python Tutorial\"\n",
    "author: \"Sean Jewell\"\n",
    "date: '2018-12-07'\n",
    "output: html_document\n",
    "layout: default\n",
    "---"
   ]
  },
  {
   "cell_type": "code",
   "execution_count": 1,
   "metadata": {
    "collapsed": true
   },
   "outputs": [],
   "source": [
    "from FastLZeroSpikeInference import fast\n",
    "import numpy as np\n",
    "%matplotlib inline\n",
    "import numpy as np\n",
    "import matplotlib.pyplot as plt"
   ]
  },
  {
   "cell_type": "markdown",
   "metadata": {},
   "source": [
    "In this tutorial, we demonstrate how the ```FastLZeroSpikeInference``` package can be used to deconvolve calcium imaging data from a single neuron. All demos require the ```FastLZeroSpikeInference``` package; installation instructions are provided [here](software.html). To illustratre the software, we use the following toy dataset."
   ]
  },
  {
   "cell_type": "code",
   "execution_count": 2,
   "metadata": {},
   "outputs": [
    {
     "data": {
      "text/plain": [
       "[<matplotlib.lines.Line2D at 0x10db71c10>]"
      ]
     },
     "execution_count": 2,
     "metadata": {},
     "output_type": "execute_result"
    },
    {
     "data": {
      "image/png": "[encoded data removed]",
      "text/plain": [
       "<matplotlib.figure.Figure at 0x10dad2190>"
      ]
     },
     "metadata": {},
     "output_type": "display_data"
    }
   ],
   "source": [
    "gam = 0.98\n",
    "y = np.power(gam, np.concatenate([np.arange(100), np.arange(100)]))\n",
    "plt.plot(y)"
   ]
  },
  {
   "cell_type": "markdown",
   "metadata": {},
   "source": [
    "The ```estimate_spikes``` function estimates spikes based on the calcium trace, exponential decay parameter $\\gamma$, and a tuning parameter $\\lambda$. This function solves* \n",
    "\n",
    "$$\n",
    "\\underset{c_1,\\ldots,c_T, z_2,\\ldots,z_T}{\\mathrm{minimize}}  \n",
    "\\frac{1}{2} \\sum_{t=1}^T \\left( y_t -  c_t \\right)^2 + \\lambda \\sum_{t=2}^T 1_{\\left( z_t \\neq 0 \\right) } \n",
    "$$\n",
    "\n",
    "if the ```constraint``` parameter is set to false (default), and \n",
    "\n",
    "$$\n",
    "\\underset{c_1,\\ldots,c_T, z_2,\\ldots,z_T}{\\mathrm{minimize}}  \n",
    "\\frac{1}{2} \\sum_{t=1}^T \\left( y_t -  c_t \\right)^2 + \\lambda \\sum_{t=2}^T 1_{\\left( z_t \\neq 0 \\right) }\n",
    "\\mbox{ subject to } z_t = c_t - \\gamma c_{t-1} \\geq 0,\n",
    "$$\n",
    "\n",
    "if the ```constraint``` parameter is set to true (default). Here's an example of the function applied to the toy data. "
   ]
  },
  {
   "cell_type": "code",
   "execution_count": 3,
   "metadata": {},
   "outputs": [],
   "source": [
    "fit = fast.estimate_spikes(y, gam, 1, False)"
   ]
  },
  {
   "cell_type": "markdown",
   "metadata": {},
   "source": [
    "By default, and to save computation time, the calcium concentration is not automatically estimated. However, the ```estimate_calcium``` function can be used to estimate the calcium concentration based on a prior fit."
   ]
  },
  {
   "cell_type": "code",
   "execution_count": 4,
   "metadata": {},
   "outputs": [
    {
     "data": {
      "text/plain": [
       "[<matplotlib.lines.Line2D at 0x10dbfa8d0>]"
      ]
     },
     "execution_count": 4,
     "metadata": {},
     "output_type": "execute_result"
    },
    {
     "data": {
      "image/png": "[encoded data removed]",
      "text/plain": [
       "<matplotlib.figure.Figure at 0x10d96bed0>"
      ]
     },
     "metadata": {},
     "output_type": "display_data"
    }
   ],
   "source": [
    "# Determine calcium concentration from fit\n",
    "fit = fast.estimate_calcium(fit)\n",
    "plt.plot(fit['estimated_calcium'])"
   ]
  },
  {
   "cell_type": "markdown",
   "metadata": {},
   "source": [
    "With estimated spike(s)"
   ]
  },
  {
   "cell_type": "code",
   "execution_count": 5,
   "metadata": {},
   "outputs": [
    {
     "data": {
      "text/plain": [
       "101"
      ]
     },
     "execution_count": 5,
     "metadata": {},
     "output_type": "execute_result"
    }
   ],
   "source": [
    "fit['spikes'][0]"
   ]
  },
  {
   "cell_type": "markdown",
   "metadata": {},
   "source": [
    "Alternatively, both spikes and calcium concentrations can be computed with the ```estimate_spikes``` function with ```estimate_calcium``` parameter set to true. "
   ]
  },
  {
   "cell_type": "code",
   "execution_count": 6,
   "metadata": {
    "collapsed": true
   },
   "outputs": [],
   "source": [
    "fit = fast.estimate_spikes(y, gam, 1, False, True)"
   ]
  },
  {
   "cell_type": "markdown",
   "metadata": {},
   "source": [
    "To solve the constrained problem \n",
    "$$\n",
    "\\underset{c_1,\\ldots,c_T, z_2,\\ldots,z_T}{\\mathrm{minimize}}  \n",
    "\\frac{1}{2} \\sum_{t=1}^T \\left( y_t -  c_t \\right)^2 + \\lambda \\sum_{t=2}^T 1_{\\left( z_t \\neq 0 \\right) }\n",
    "\\mbox{ subject to } z_t = c_t - \\gamma c_{t-1} \\geq 0,\n",
    "$$\n",
    "we set the ```constraint``` parameter to true in the ```estimate_spikes``` function. Consider the following example.\n"
   ]
  },
  {
   "cell_type": "code",
   "execution_count": 7,
   "metadata": {
    "collapsed": true
   },
   "outputs": [],
   "source": [
    "fit = fast.estimate_spikes(y, gam, 1, True, True)"
   ]
  },
  {
   "cell_type": "markdown",
   "metadata": {},
   "source": [
    "* In practice, we solve a modification of our algorithm that removes potential numerical instabilities by imposing a minimum calcium concentration constraint. Namely, we require that the calcium concentration never decays below some small $\\epsilon>0$, i.e. $c_{t} = \\max\\{\\gamma c_{t-1}, \\epsilon\\} + z_{t}$. This results in slightly different optimization problems. For small $\\epsilon$, the difference between the old and new formulation is negligible (the objective function differ only when, under the old formulation, $c_{t} < \\epsilon$, and at such timesteps the difference is bounded by $2y_{t}\\epsilon + \\frac12 \\epsilon^{2}$.) Details are in Appendix S3.1 of the Supplementary Materials of {% cite jewell2018fast %}. \n",
    "\n",
    "\n",
    "References \n",
    "----\n",
    "\n",
    "{% bibliography --cited %}"
   ]
  },
  {
   "cell_type": "code",
   "execution_count": null,
   "metadata": {
    "collapsed": true
   },
   "outputs": [],
   "source": []
  }
 ],
 "metadata": {
  "kernelspec": {
   "display_name": "Python 2",
   "language": "python",
   "name": "python2"
  },
  "language_info": {
   "codemirror_mode": {
    "name": "ipython",
    "version": 2
   },
   "file_extension": ".py",
   "mimetype": "text/x-python",
   "name": "python",
   "nbconvert_exporter": "python",
   "pygments_lexer": "ipython2",
   "version": "2.7.13"
  }
 },
 "nbformat": 4,
 "nbformat_minor": 2
}
